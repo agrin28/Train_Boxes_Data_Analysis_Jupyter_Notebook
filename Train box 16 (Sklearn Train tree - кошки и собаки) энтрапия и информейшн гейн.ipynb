{
 "cells": [
  {
   "cell_type": "code",
   "execution_count": 1,
   "metadata": {},
   "outputs": [
    {
     "name": "stdout",
     "output_type": "stream",
     "text": [
      "The scikit-learn version is 0.23.2.\n"
     ]
    }
   ],
   "source": [
    "import sklearn\n",
    "from sklearn import tree\n",
    "import pandas as pd\n",
    "import  matplotlib.pyplot as plt\n",
    "import seaborn as sns\n",
    "%matplotlib inline\n",
    "print('The scikit-learn version is {}.'.format(sklearn.__version__))"
   ]
  },
  {
   "cell_type": "code",
   "execution_count": 2,
   "metadata": {},
   "outputs": [],
   "source": [
    "from IPython.display import SVG\n",
    "from graphviz import Source\n",
    "from IPython.display import  display"
   ]
  },
  {
   "cell_type": "code",
   "execution_count": 3,
   "metadata": {},
   "outputs": [
    {
     "data": {
      "text/html": [
       "<style>svg{width:70% !important;height:70% !important;}</style>"
      ],
      "text/plain": [
       "<IPython.core.display.HTML object>"
      ]
     },
     "execution_count": 3,
     "metadata": {},
     "output_type": "execute_result"
    }
   ],
   "source": [
    "from IPython.display import  HTML\n",
    "style = \"<style>svg{width:70% !important;height:70% !important;}</style>\"\n",
    "HTML(style)"
   ]
  },
  {
   "cell_type": "code",
   "execution_count": 4,
   "metadata": {},
   "outputs": [],
   "source": [
    "data = pd.read_csv( 'D:\\\\КУРСЫ DATA SCIENCE\\\\МОИ ЗАДАЧКИ\\\\cats.csv', encoding='utf-8')"
   ]
  },
  {
   "cell_type": "code",
   "execution_count": 21,
   "metadata": {},
   "outputs": [
    {
     "data": {
      "text/html": [
       "<div>\n",
       "<style scoped>\n",
       "    .dataframe tbody tr th:only-of-type {\n",
       "        vertical-align: middle;\n",
       "    }\n",
       "\n",
       "    .dataframe tbody tr th {\n",
       "        vertical-align: top;\n",
       "    }\n",
       "\n",
       "    .dataframe thead th {\n",
       "        text-align: right;\n",
       "    }\n",
       "</style>\n",
       "<table border=\"1\" class=\"dataframe\">\n",
       "  <thead>\n",
       "    <tr style=\"text-align: right;\">\n",
       "      <th></th>\n",
       "      <th>Unnamed: 0</th>\n",
       "      <th>Шерстист</th>\n",
       "      <th>Гавкает</th>\n",
       "      <th>Лазает по деревьям</th>\n",
       "      <th>Вид</th>\n",
       "    </tr>\n",
       "  </thead>\n",
       "  <tbody>\n",
       "    <tr>\n",
       "      <th>0</th>\n",
       "      <td>0</td>\n",
       "      <td>1</td>\n",
       "      <td>1</td>\n",
       "      <td>0</td>\n",
       "      <td>собачка</td>\n",
       "    </tr>\n",
       "    <tr>\n",
       "      <th>1</th>\n",
       "      <td>1</td>\n",
       "      <td>1</td>\n",
       "      <td>1</td>\n",
       "      <td>0</td>\n",
       "      <td>собачка</td>\n",
       "    </tr>\n",
       "    <tr>\n",
       "      <th>2</th>\n",
       "      <td>2</td>\n",
       "      <td>1</td>\n",
       "      <td>1</td>\n",
       "      <td>0</td>\n",
       "      <td>собачка</td>\n",
       "    </tr>\n",
       "    <tr>\n",
       "      <th>3</th>\n",
       "      <td>3</td>\n",
       "      <td>1</td>\n",
       "      <td>1</td>\n",
       "      <td>0</td>\n",
       "      <td>собачка</td>\n",
       "    </tr>\n",
       "    <tr>\n",
       "      <th>4</th>\n",
       "      <td>4</td>\n",
       "      <td>1</td>\n",
       "      <td>0</td>\n",
       "      <td>1</td>\n",
       "      <td>котик</td>\n",
       "    </tr>\n",
       "    <tr>\n",
       "      <th>5</th>\n",
       "      <td>5</td>\n",
       "      <td>1</td>\n",
       "      <td>0</td>\n",
       "      <td>1</td>\n",
       "      <td>котик</td>\n",
       "    </tr>\n",
       "    <tr>\n",
       "      <th>6</th>\n",
       "      <td>6</td>\n",
       "      <td>1</td>\n",
       "      <td>0</td>\n",
       "      <td>1</td>\n",
       "      <td>котик</td>\n",
       "    </tr>\n",
       "    <tr>\n",
       "      <th>7</th>\n",
       "      <td>7</td>\n",
       "      <td>1</td>\n",
       "      <td>0</td>\n",
       "      <td>1</td>\n",
       "      <td>котик</td>\n",
       "    </tr>\n",
       "    <tr>\n",
       "      <th>8</th>\n",
       "      <td>8</td>\n",
       "      <td>1</td>\n",
       "      <td>1</td>\n",
       "      <td>1</td>\n",
       "      <td>котик</td>\n",
       "    </tr>\n",
       "    <tr>\n",
       "      <th>9</th>\n",
       "      <td>9</td>\n",
       "      <td>0</td>\n",
       "      <td>0</td>\n",
       "      <td>1</td>\n",
       "      <td>котик</td>\n",
       "    </tr>\n",
       "  </tbody>\n",
       "</table>\n",
       "</div>"
      ],
      "text/plain": [
       "   Unnamed: 0  Шерстист  Гавкает  Лазает по деревьям      Вид\n",
       "0           0         1        1                   0  собачка\n",
       "1           1         1        1                   0  собачка\n",
       "2           2         1        1                   0  собачка\n",
       "3           3         1        1                   0  собачка\n",
       "4           4         1        0                   1    котик\n",
       "5           5         1        0                   1    котик\n",
       "6           6         1        0                   1    котик\n",
       "7           7         1        0                   1    котик\n",
       "8           8         1        1                   1    котик\n",
       "9           9         0        0                   1    котик"
      ]
     },
     "execution_count": 21,
     "metadata": {},
     "output_type": "execute_result"
    }
   ],
   "source": [
    "data"
   ]
  },
  {
   "cell_type": "code",
   "execution_count": 27,
   "metadata": {},
   "outputs": [],
   "source": [
    "data = data.rename (columns = {'Лазает по деревьям' : 'Лазает'})"
   ]
  },
  {
   "cell_type": "code",
   "execution_count": 28,
   "metadata": {},
   "outputs": [],
   "source": [
    "clf = tree.DecisionTreeClassifier(criterion = 'entropy')"
   ]
  },
  {
   "cell_type": "code",
   "execution_count": 29,
   "metadata": {},
   "outputs": [
    {
     "data": {
      "text/plain": [
       "DecisionTreeClassifier(criterion='entropy')"
      ]
     },
     "execution_count": 29,
     "metadata": {},
     "output_type": "execute_result"
    }
   ],
   "source": [
    "clf"
   ]
  },
  {
   "cell_type": "code",
   "execution_count": 33,
   "metadata": {},
   "outputs": [],
   "source": [
    "X = data[['Шерстист']] # используем для обучения данные (переменная с фичами (ДФ))\n",
    "y = data.Вид # предсказываем"
   ]
  },
  {
   "cell_type": "code",
   "execution_count": 34,
   "metadata": {},
   "outputs": [
    {
     "data": {
      "text/plain": [
       "DecisionTreeClassifier(criterion='entropy')"
      ]
     },
     "execution_count": 34,
     "metadata": {},
     "output_type": "execute_result"
    }
   ],
   "source": [
    "clf.fit(X, y)"
   ]
  },
  {
   "cell_type": "code",
   "execution_count": 35,
   "metadata": {},
   "outputs": [
    {
     "data": {
      "image/png": "[encoded data removed]",
      "text/plain": [
       "<Figure size 432x288 with 1 Axes>"
      ]
     },
     "metadata": {
      "needs_background": "light"
     },
     "output_type": "display_data"
    }
   ],
   "source": [
    "tree.plot_tree(clf, feature_names=list(X), class_names=['Negative', 'Positive'],   filled=True);"
   ]
  },
  {
   "cell_type": "code",
   "execution_count": 37,
   "metadata": {},
   "outputs": [
    {
     "ename": "NameError",
     "evalue": "name 'Log' is not defined",
     "output_type": "error",
     "traceback": [
      "\u001b[1;31m---------------------------------------------------------------------------\u001b[0m",
      "\u001b[1;31mNameError\u001b[0m                                 Traceback (most recent call last)",
      "\u001b[1;32m<ipython-input-37-fed2dccab17f>\u001b[0m in \u001b[0;36m<module>\u001b[1;34m\u001b[0m\n\u001b[1;32m----> 1\u001b[1;33m \u001b[0mE_Y\u001b[0m \u001b[1;33m=\u001b[0m \u001b[1;33m-\u001b[0m \u001b[1;36m4\u001b[0m\u001b[1;33m/\u001b[0m\u001b[1;36m10\u001b[0m \u001b[1;33m*\u001b[0m \u001b[0mLog\u001b[0m\u001b[1;33m(\u001b[0m\u001b[1;36m4\u001b[0m\u001b[1;33m/\u001b[0m\u001b[1;36m10\u001b[0m\u001b[1;33m)\u001b[0m \u001b[1;33m-\u001b[0m \u001b[1;36m6\u001b[0m\u001b[1;33m/\u001b[0m\u001b[1;36m10\u001b[0m \u001b[1;33m*\u001b[0m \u001b[0mLog\u001b[0m\u001b[1;33m(\u001b[0m\u001b[1;36m6\u001b[0m\u001b[1;33m/\u001b[0m\u001b[1;36m10\u001b[0m\u001b[1;33m)\u001b[0m\u001b[1;33m\u001b[0m\u001b[1;33m\u001b[0m\u001b[0m\n\u001b[0m\u001b[0;32m      2\u001b[0m \u001b[1;33m\u001b[0m\u001b[0m\n",
      "\u001b[1;31mNameError\u001b[0m: name 'Log' is not defined"
     ]
    }
   ],
   "source": [
    "E(Y) = - 4/10 * Log(4/10) - 6/10 * Log(6/10)\n",
    "\n",
    "E(Y/X)шерстит = 1/10 * 0 (Е=0) + 9/10 * Е (0,99)\n",
    "\n",
    "E(Y/X) гавкает = 5/10 * 0 (Е=0) + 5/10 * Е (0,72)\n",
    "\n",
    "Е(Y/X) лазает = 0 (Е в обоих случаях равна нулю) или 4/10 * 0 + 6/10 * 0ъ"
   ]
  },
  {
   "cell_type": "code",
   "execution_count": 45,
   "metadata": {},
   "outputs": [],
   "source": [
    "# Вспомогательная функция для рассчета доли переданного значения в переданном столбце переданного датафрейма\n",
    "def calc_sel_ratio(data, col_input, val_input):\n",
    "    return data[data[col_input] == val_input][col_input].count() / data.shape[0]\n",
    "\n",
    "# Вспомогательная функция для рассчета Pi\n",
    "def calc_pi(data, col_input, val_input, col_output, val_output):\n",
    "    if col_input != col_output:\n",
    "        sel_df = data[data[col_input] == val_input]\n",
    "        return calc_sel_ratio(sel_df, col_output, val_output)\n",
    "    else:\n",
    "        return calc_sel_ratio(data, col_output, val_output)\n",
    "\n",
    "# Функция для рассчета энтропии\n",
    "def calc_entropy(data, col_input, val_input, col_output):\n",
    "    entropy = 0\n",
    "    vals_output = data[col_output].unique()\n",
    "    for val_output in vals_output:\n",
    "        pi = calc_pi(data, col_input, val_input, col_output, val_output)\n",
    "        entropy += - (pi * (math.log(pi, 2) if pi != 0 else 0))\n",
    "    return entropy\n",
    "\n",
    "# Функция для рассчета IG\n",
    "def calc_ig(data, col_input, col_output):\n",
    "    vals_input = data[col_input].unique()\n",
    "    self_entropy = calc_entropy(data, col_output, None, col_output)\n",
    "    childs_entropy =  0\n",
    "    for val_input in vals_input:\n",
    "        childs_entropy += calc_sel_ratio(data, col_input, val_input) * calc_entropy(data, col_input, val_input, col_output)\n",
    "    ig = self_entropy - childs_entropy\n",
    "    return ig"
   ]
  },
  {
   "cell_type": "code",
   "execution_count": 47,
   "metadata": {},
   "outputs": [
    {
     "name": "stdout",
     "output_type": "stream",
     "text": [
      "0.07909999999999995 0.61 0.971\n"
     ]
    }
   ],
   "source": [
    "#Решение....Вау!\n",
    "import math as m\n",
    "def IG(start, first, second, value1, value2):\n",
    "    return start - first * value1 - second * value2\n",
    "a = IG(0.971, 0, 0.991, 0.1, 0.9)\n",
    "b = IG(0.971, 0, 0.722, 0.5, 0.5)\n",
    "c = IG(0.971, 0, 0, 0.4, 0.6)\n",
    "print(a, b, c)"
   ]
  },
  {
   "cell_type": "code",
   "execution_count": 54,
   "metadata": {},
   "outputs": [
    {
     "name": "stdout",
     "output_type": "stream",
     "text": [
      "0.97\n",
      "0.08\n",
      "0.61\n",
      "0.97\n"
     ]
    }
   ],
   "source": [
    "import math as m\n",
    "E_sh_sob=(1/1)*m.log2((1/1)) - 0\n",
    "E_sh_kot=-(4/9)*m.log2((4/9)) - (5/9)*m.log2((5/9))\n",
    "E_gav_sob=0 - (5/5)*m.log2((5/5))\n",
    "E_gav_kot=-(4/5)*m.log2((4/5)) - (1/5)*m.log2((1/5))\n",
    "E_laz_sob=0 - (6/6)*m.log2((6/6))\n",
    "E_laz_kot=-(4/4)*m.log2((4/4)) - 0\n",
    "\n",
    "E_zag = -(4/10)*m.log2(4/10)-(6/10)*m.log2(6/10)\n",
    "IG_sh = E_zag-((9/10)*E_sh_kot+(1/10)*E_sh_sob)\n",
    "IG_gav = E_zag-((5/10)*E_gav_kot+(5/10)*E_gav_sob)\n",
    "IG_laz = E_zag-((4/10)*E_laz_kot+(6/10)*E_laz_sob)\n",
    "print(round(E_zag, 2))\n",
    "print(round(IG_sh, 2))\n",
    "print(round(IG_gav, 2))\n",
    "print(round(IG_laz,2))"
   ]
  },
  {
   "cell_type": "code",
   "execution_count": 57,
   "metadata": {},
   "outputs": [
    {
     "name": "stdout",
     "output_type": "stream",
     "text": [
      "IG по шертистости:  0.07898214060026876\n",
      "IG по голосу:  0.6099865470109876\n",
      "IG по деревьям:  0.9709505944546688\n"
     ]
    }
   ],
   "source": [
    "import pandas as pd\n",
    "from scipy.stats import entropy\n",
    "\n",
    "\n",
    "def ent(data):\n",
    "  return entropy(data.Вид.value_counts() / len(data), base=2)\n",
    "\n",
    "\n",
    "def ig(data, feature):\n",
    "  ent0 = ent(data[data[feature] == 0])\n",
    "  ent1 = ent(data[data[feature] == 1])\n",
    "  n = len(data)\n",
    "  n0 = len(data[data[feature] == 0])\n",
    "  n1 = len(data[data[feature] == 1])\n",
    "  return ent(data) - ent0 * n0 / n - ent1 * n1 / n\n",
    "\n",
    "\n",
    "print('IG по шертистости: ', ig(data, 'Шерстист'))\n",
    "print('IG по голосу: ', ig(data, 'Гавкает'))\n",
    "print('IG по деревьям: ', ig(data, 'Лазает'))"
   ]
  },
  {
   "cell_type": "code",
   "execution_count": null,
   "metadata": {},
   "outputs": [],
   "source": []
  }
 ],
 "metadata": {
  "kernelspec": {
   "display_name": "Python 3",
   "language": "python",
   "name": "python3"
  },
  "language_info": {
   "codemirror_mode": {
    "name": "ipython",
    "version": 3
   },
   "file_extension": ".py",
   "mimetype": "text/x-python",
   "name": "python",
   "nbconvert_exporter": "python",
   "pygments_lexer": "ipython3",
   "version": "3.8.5"
  }
 },
 "nbformat": 4,
 "nbformat_minor": 4
}
