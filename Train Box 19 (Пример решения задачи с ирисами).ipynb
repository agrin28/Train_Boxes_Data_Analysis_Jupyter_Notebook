{
 "cells": [
  {
   "cell_type": "code",
   "execution_count": 14,
   "metadata": {},
   "outputs": [],
   "source": [
    "# Импортируем специализированные модули Pandas и Numpy, не являющиеся частью стандартной библиотеки Python.\n",
    "import pandas as pd\n",
    "import numpy as np\n"
   ]
  },
  {
   "cell_type": "code",
   "execution_count": 15,
   "metadata": {},
   "outputs": [],
   "source": [
    "# а также импортируем модули Seaborn, Matplotlib и Pydotplus для работы с графикой.\n",
    "import matplotlib.pyplot as plt\n",
    "import seaborn as sns\n",
    "# Импортируем модуль tree из библиотеки sklearn для реализации алгоритмов решающих деревьев.\n",
    "from sklearn import tree"
   ]
  },
  {
   "cell_type": "code",
   "execution_count": 16,
   "metadata": {},
   "outputs": [
    {
     "data": {
      "text/html": [
       "<style>svg{width:70% !important;height:70% !important;}</style>"
      ],
      "text/plain": [
       "<IPython.core.display.HTML object>"
      ]
     },
     "execution_count": 16,
     "metadata": {},
     "output_type": "execute_result"
    }
   ],
   "source": [
    "# Импортируем модули, необходимые для визуализации дерева решений.\n",
    "from IPython.display import SVG\n",
    "from graphviz import Source\n",
    "from IPython.display import display\n",
    "from IPython.display import HTML\n",
    "\n",
    "style = \"<style>svg{width:70% !important;height:70% !important;}</style>\"\n",
    "HTML(style)\n"
   ]
  },
  {
   "cell_type": "code",
   "execution_count": 17,
   "metadata": {},
   "outputs": [],
   "source": [
    "# Прописываем пути до graphviz.\n",
    "import os\n",
    "os.environ[\"PATH\"] += os.pathsep + \"C:\\Program Files (x86)\\Graphviz2.38\\bin\" \\\n",
    "                      + os.pathsep + \"C:\\Program Files (x86)\\Graphviz2.38\"\n",
    "\n",
    "# Устанавливаем размер области для построения графиков.\n",
    "sns.set(rc={'figure.figsize': (9, 6)})"
   ]
  },
  {
   "cell_type": "code",
   "execution_count": 18,
   "metadata": {},
   "outputs": [],
   "source": [
    "# Считываем тренировочный файл.\n",
    "train_iris_data = pd.read_csv(\"D:\\\\КУРСЫ DATA SCIENCE\\\\МОИ ЗАДАЧКИ\\\\train_iris.csv\", index_col=0)\n",
    "# Считываем тестовый файл.\n",
    "test_iris_data = pd.read_csv(\"D:\\\\КУРСЫ DATA SCIENCE\\\\МОИ ЗАДАЧКИ\\\\test_iris.csv\", index_col=0)"
   ]
  },
  {
   "cell_type": "code",
   "execution_count": 19,
   "metadata": {},
   "outputs": [],
   "source": [
    "# Отбросим колонки, не несущие важной информации для построения дерева решений.\n",
    "# Отбрасываем не только предсказываемую species, но и первую колонку, так как она содержит id каждого экземпляра (цветка), а он для построения графика не нужен.\n",
    "X_train_iris = train_iris_data.drop(['species'], axis=1)\n",
    "X_test_iris = test_iris_data.drop(['species'], axis=1)"
   ]
  },
  {
   "cell_type": "code",
   "execution_count": 20,
   "metadata": {},
   "outputs": [],
   "source": [
    "# Создадим переменные, которые будем предсказывать.\n",
    "y_train_iris = train_iris_data.species\n",
    "y_test_iris = test_iris_data.species\n"
   ]
  },
  {
   "cell_type": "code",
   "execution_count": 21,
   "metadata": {},
   "outputs": [],
   "source": [
    "# Подберем оптимальное значение глубины обучения дерева.\n",
    "# Зададим диапазон исследуемых значений.\n",
    "max_iris_depth_values = range(1, 100)\n"
   ]
  },
  {
   "cell_type": "code",
   "execution_count": 22,
   "metadata": {},
   "outputs": [],
   "source": [
    "# Обнулим DataFrame.\n",
    "scores_iris_data = pd.DataFrame()\n",
    "\n",
    "#  Задаем random seed.\n",
    "rs = np.random.seed(0)\n"
   ]
  },
  {
   "cell_type": "code",
   "execution_count": 23,
   "metadata": {},
   "outputs": [],
   "source": [
    "for max_iris_depth in max_iris_depth_values:\n",
    "    # Изменяем глубину обучения дерева по циклу от 1 до 99 с шагом 1.\n",
    "    clf_iris = tree.DecisionTreeClassifier(criterion='entropy', max_depth=max_iris_depth, random_state=rs)\n",
    "    # Обучаем дерево решений (с ограниченной глубиной) на подмножестве train.\n",
    "    clf_iris.fit(X_train_iris, y_train_iris)\n",
    "    # Записываем в отдельную переменную число правильных ответов на обученной модели дерева\n",
    "    # с ограниченной глубиной (подмножество train)\n",
    "    train_iris_score = clf_iris.score(X_train_iris, y_train_iris)\n",
    "    # Записываем в отдельную переменную число правильных ответов на обученной модели дерева\n",
    "    # с ограниченной глубиной (подмножество test)\n",
    "    test_iris_score = clf_iris.score(X_test_iris, y_test_iris)\n",
    "    # Создаем временный DataFrame.\n",
    "    temp_score_iris_data = pd.DataFrame({'max_iris_depth':[max_iris_depth],\n",
    "                                         'train_iris_score':[train_iris_score],\n",
    "                                         'test_iris_score':[test_iris_score]})\n",
    "    # Наращиваем DataFrame \"scores_iris_data\".\n",
    "    scores_iris_data = scores_iris_data.append(temp_score_iris_data)"
   ]
  },
  {
   "cell_type": "code",
   "execution_count": 24,
   "metadata": {},
   "outputs": [],
   "source": [
    "# Видоизменим DataFrame, применив метод melt().\n",
    "scores_iris_data_long = pd.melt(scores_iris_data, id_vars=['max_iris_depth'],\n",
    "                           value_vars=['train_iris_score','test_iris_score'],\n",
    "                           var_name='set_type', value_name='score')\n"
   ]
  },
  {
   "cell_type": "code",
   "execution_count": 25,
   "metadata": {},
   "outputs": [
    {
     "data": {
      "image/png": "[encoded data removed]",
      "text/plain": [
       "<Figure size 648x432 with 1 Axes>"
      ]
     },
     "metadata": {},
     "output_type": "display_data"
    }
   ],
   "source": [
    "\n",
    "# Визуализация.\n",
    "sns.lineplot(x='max_iris_depth', y='score', hue='set_type', data=scores_iris_data_long)\n",
    "\n",
    "# Отображение графиков Matplotlib и Seaborn в PyCharm.\n",
    "plt.show()"
   ]
  },
  {
   "cell_type": "code",
   "execution_count": null,
   "metadata": {},
   "outputs": [],
   "source": []
  }
 ],
 "metadata": {
  "kernelspec": {
   "display_name": "Python 3",
   "language": "python",
   "name": "python3"
  },
  "language_info": {
   "codemirror_mode": {
    "name": "ipython",
    "version": 3
   },
   "file_extension": ".py",
   "mimetype": "text/x-python",
   "name": "python",
   "nbconvert_exporter": "python",
   "pygments_lexer": "ipython3",
   "version": "3.8.5"
  }
 },
 "nbformat": 4,
 "nbformat_minor": 4
}
